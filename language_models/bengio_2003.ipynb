{
  "nbformat": 4,
  "nbformat_minor": 0,
  "metadata": {
    "kernelspec": {
      "name": "python3",
      "display_name": "Python 3"
    },
    "language_info": {
      "codemirror_mode": {
        "name": "ipython",
        "version": 3
      },
      "file_extension": ".py",
      "mimetype": "text/x-python",
      "name": "python",
      "nbconvert_exporter": "python",
      "pygments_lexer": "ipython3",
      "version": "3.7.3"
    },
    "pycharm": {
      "stem_cell": {
        "cell_type": "raw",
        "metadata": {
          "collapsed": false
        },
        "source": []
      }
    },
    "colab": {
      "name": "bengio_2003.ipynb",
      "version": "0.3.2",
      "provenance": []
    }
  },
  "cells": [
    {
      "cell_type": "code",
      "metadata": {
        "pycharm": {
          "is_executing": false,
          "name": "#%%\n"
        },
        "id": "ixwinlR8yPBL",
        "colab_type": "code",
        "colab": {}
      },
      "source": [
        "import torch\n",
        "import torch.nn as nn\n",
        "from torch.autograd import Variable\n",
        "import torch.optim as optim\n",
        "import torch.nn.functional as F\n",
        "import numpy as np\n",
        "import torchtext\n",
        "from torchtext import data\n",
        "from torchtext.datasets import PennTreebank"
      ],
      "execution_count": 0,
      "outputs": []
    },
    {
      "cell_type": "code",
      "metadata": {
        "id": "t8L4PShrzsOc",
        "colab_type": "code",
        "colab": {
          "base_uri": "https://localhost:8080/",
          "height": 127
        },
        "outputId": "aae20ef7-3070-479e-e78a-89e9bac00f43"
      },
      "source": [
        "TEXT = data.Field(sequential=True, tokenize='spacy', lower=True)\n",
        "train, valid, test = PennTreebank.splits(TEXT)\n",
        "TEXT.build_vocab(train)\n",
        "vocab_size = len(TEXT.vocab)\n",
        "\n",
        "ngram_size = 4\n",
        "\n",
        "train_iter, valid_iter, test_iter = data.BPTTIterator.splits((train, valid, test),\n",
        "                                                            batch_size=512,\n",
        "                                                            bptt_len=ngram_size,\n",
        "                                                            repeat=False)"
      ],
      "execution_count": 2,
      "outputs": [
        {
          "output_type": "stream",
          "text": [
            "downloading ptb.train.txt\n"
          ],
          "name": "stdout"
        },
        {
          "output_type": "stream",
          "text": [
            "ptb.train.txt: 5.10MB [00:00, 46.9MB/s]\n",
            "ptb.valid.txt:   0%|          | 0.00/154k [00:00<?, ?B/s]"
          ],
          "name": "stderr"
        },
        {
          "output_type": "stream",
          "text": [
            "downloading ptb.valid.txt\n"
          ],
          "name": "stdout"
        },
        {
          "output_type": "stream",
          "text": [
            "ptb.valid.txt: 400kB [00:00, 10.3MB/s]                   \n",
            "ptb.test.txt: 450kB [00:00, 11.5MB/s]                   \n"
          ],
          "name": "stderr"
        },
        {
          "output_type": "stream",
          "text": [
            "downloading ptb.test.txt\n"
          ],
          "name": "stdout"
        }
      ]
    },
    {
      "cell_type": "code",
      "metadata": {
        "pycharm": {
          "is_executing": false,
          "name": "#%%\n"
        },
        "id": "3b6CwBlNyPBr",
        "colab_type": "code",
        "colab": {}
      },
      "source": [
        "class Bengio2003(nn.Module):\n",
        "    def __init__(self, vocab_size, embedding_dim, context_size):\n",
        "        super(Bengio2003, self).__init__()\n",
        "        self.C = nn.Embedding(vocab_size, embedding_dim)\n",
        "        self.g = nn.Linear(embedding_dim * context_size, vocab_size)\n",
        "        self.softmax = nn.Softmax()\n",
        "        \n",
        "    def forward(self, inputs):\n",
        "        out = self.C(inputs)\n",
        "        out = torch.cat(tuple([out[i] for i in range(0, ngram_size)]), 1)\n",
        "        out = self.g(torch.tanh(out))\n",
        "        return F.log_softmax(out, dim=1)"
      ],
      "execution_count": 0,
      "outputs": []
    },
    {
      "cell_type": "code",
      "metadata": {
        "id": "XBYU2bze_eOC",
        "colab_type": "code",
        "colab": {}
      },
      "source": [
        "loss_function = nn.NLLLoss()\n",
        "model = Bengio2003(vocab_size, 100, ngram_size)\n",
        "optimizer = optim.SGD(model.parameters(), lr=1e-3)"
      ],
      "execution_count": 0,
      "outputs": []
    },
    {
      "cell_type": "code",
      "metadata": {
        "colab_type": "code",
        "id": "Nt6cy_Z7CMso",
        "colab": {}
      },
      "source": [
        "for epoch in range(1):\n",
        "    \n",
        "    for i, batch in enumerate(train_iter):\n",
        "        optimizer.zero_grad()\n",
        "        \n",
        "        text, target = batch.text, batch.target[-1]\n",
        "        output = model(text)\n",
        "        loss = loss_function(output, target)\n",
        "        loss.backward()\n",
        "        optimizer.step()"
      ],
      "execution_count": 0,
      "outputs": []
    }
  ]
}