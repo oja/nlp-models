{
 "cells": [
  {
   "cell_type": "code",
   "execution_count": 2,
   "metadata": {
    "colab": {},
    "colab_type": "code",
    "id": "pKZUZyzWJsGg",
    "pycharm": {
     "is_executing": false
    }
   },
   "outputs": [],
   "source": [
    "import torch\n",
    "import torch.nn as nn\n",
    "from torch.autograd import Variable\n",
    "import torch.optim as optim\n",
    "import torch.nn.functional as F\n",
    "import numpy as np\n",
    "import torchtext\n",
    "from torchtext import data\n",
    "from torchtext.datasets import Multi30k\n",
    "import spacy\n",
    "import random"
   ]
  },
  {
   "cell_type": "code",
   "execution_count": 3,
   "metadata": {
    "colab": {},
    "colab_type": "code",
    "id": "bWDy2_8QKgD7",
    "pycharm": {
     "is_executing": false
    }
   },
   "outputs": [],
   "source": [
    "spacy_german = spacy.load('de')\n",
    "\n",
    "def tokenize_german(text):\n",
    "    return [tok.text for tok in spacy_german.tokenizer(text)][::-1] # reverse input\n",
    "\n",
    "SOURCE = data.Field(tokenize=tokenize_german,\n",
    "                    init_token=\"<sos>\",\n",
    "                    eos_token=\"<eos>\",\n",
    "                    lower=True)\n",
    "\n",
    "TARGET = data.Field(tokenize='spacy',\n",
    "                    init_token=\"<sos>\",\n",
    "                    eos_token=\"<eos>\",\n",
    "                    lower=True)"
   ]
  },
  {
   "cell_type": "code",
   "execution_count": 4,
   "metadata": {
    "colab": {},
    "colab_type": "code",
    "id": "rUx3RnH7LhCP",
    "pycharm": {
     "is_executing": false
    }
   },
   "outputs": [],
   "source": [
    "train, valid, test = Multi30k.splits(exts=('.de', '.en'),\n",
    "                                     fields=(SOURCE, TARGET))\n",
    "\n",
    "SOURCE.build_vocab(train, min_freq=3)\n",
    "TARGET.build_vocab(train, min_freq=3)\n",
    "\n",
    "train_iterator, valid_iterator, test_iterator = data.BucketIterator.splits((train, valid, test),\n",
    "                                                                           batch_size=256)"
   ]
  },
  {
   "cell_type": "code",
   "execution_count": 7,
   "metadata": {
    "colab": {},
    "colab_type": "code",
    "id": "IKcykqSYNi4t",
    "pycharm": {
     "is_executing": false
    }
   },
   "outputs": [],
   "source": [
    "class Encoder(nn.Module):\n",
    "    def __init__(self, vocab_size, embedding_dim, hidden_dim, decoder_hidden_dim):\n",
    "        super(Encoder, self).__init__()\n",
    "        self.vocab_size = vocab_size\n",
    "        self.embedding_dim = embedding_dim\n",
    "        self.hidden_dim = hidden_dim\n",
    "        self.decoder_hidden_dim = decoder_hidden_dim\n",
    "        \n",
    "        self.embedding = nn.Embedding(vocab_size, embedding_dim)\n",
    "        self.gru = nn.GRU(embedding_dim, hidden_dim, bidirectional=True)\n",
    "        self.fully_connected = nn.Linear(hidden_dim * 2, decoder_hidden_dim)\n",
    "    \n",
    "    def forward(self, inputs):\n",
    "        out = self.embedding(inputs)\n",
    "        out, hidden = self.gru(out)\n",
    "        hidden = torch.tanh(self.fully_connected(torch.cat((hidden[-2,:,:], hidden[-1,:,:]), dim=1)))\n",
    "        return out, hidden\n",
    "\n",
    "class Attention(nn.Module):\n",
    "    def __init__(self, encoder_hidden_dim, hidden_dim):\n",
    "        super(Attention, self).__init__()\n",
    "        \n",
    "        self.encoder_hidden_dim = encoder_hidden_dim\n",
    "        self.hidden_dim = hidden_dim\n",
    "        \n",
    "        self.attn = nn.Linear((encoder_hidden_dim * 2) + hidden_dim, hidden_dim)\n",
    "        self.v = nn.Parameter(torch.rand(hidden_dim))\n",
    "        \n",
    "    def forward(self, hidden, outputs):\n",
    "        batch_size = outputs.shape[1]\n",
    "        source_len = outputs.shape[0]\n",
    "        hidden = hidden.unsqueeze(1).repeat(1, source_len, 1)\n",
    "        outputs = outputs.permute(1, 0, 2)\n",
    "        energy = torch.tanh(self.attn(torch.cat((hidden, outputs), dim = 2)))\n",
    "        energy = energy.permute(0, 2, 1)\n",
    "        v = self.v.repeat(batch_size, 1).unsqueeze(1)\n",
    "        attention = torch.bmm(v, energy).squeeze(1)\n",
    "        return F.softmax(attention, dim=1)\n",
    "    \n",
    "class Decoder(nn.Module):\n",
    "    def __init__(self, output_dim, embedding_dim, encoder_hidden_dim, hidden_dim, attention):\n",
    "        super(Decoder, self).__init__()\n",
    "        \n",
    "        self.output_dim = output_dim\n",
    "        self.embedding_dim = embedding_dim\n",
    "        self.encoder_hidden_dim = encoder_hidden_dim\n",
    "        self.hidden_dim = hidden_dim\n",
    "        self.attention = attention\n",
    "        \n",
    "        self.embedding = nn.Embedding(output_dim, embedding_dim)\n",
    "        self.rnn = nn.GRU((encoder_hidden_dim * 2) + embedding_dim, hidden_dim)        \n",
    "        self.out = nn.Linear((encoder_hidden_dim * 2) + hidden_dim + embedding_dim, output_dim)\n",
    "        \n",
    "    def forward(self, inputs, hidden, encoder_outputs):\n",
    "        inputs = inputs.unsqueeze(0)\n",
    "        embedded = self.embedding(inputs)\n",
    "        a = self.attention(hidden, encoder_outputs).unsqueeze(1)\n",
    "        encoder_outputs = encoder_outputs.permute(1, 0, 2)\n",
    "        weighted = torch.bmm(a, encoder_outputs)    \n",
    "        weighted = weighted.permute(1, 0, 2)\n",
    "        output, hidden = self.rnn(torch.cat((embedded, weighted), dim=2), hidden.unsqueeze(0))\n",
    "        embedded = embedded.squeeze(0)\n",
    "        output = output.squeeze(0)\n",
    "        weighted = weighted.squeeze(0)\n",
    "        output = self.out(torch.cat((output, weighted, embedded), dim=1))        \n",
    "        return output, hidden.squeeze(0)\n",
    "\n",
    "class Seq2Seq(nn.Module):\n",
    "    def __init__(self, encoder, decoder):\n",
    "        super(Seq2Seq, self).__init__()\n",
    "        self.encoder = encoder\n",
    "        self.decoder = decoder\n",
    "        \n",
    "    def forward(self, src, trg):\n",
    "        batch_size = src.shape[1]\n",
    "        max_len = trg.shape[0]\n",
    "        trg_vocab_size = self.decoder.output_dim\n",
    "        \n",
    "        outputs = torch.zeros(max_len, batch_size, trg_vocab_size)\n",
    "        encoder_outputs, hidden = self.encoder(src)\n",
    "                \n",
    "        output = trg[0,:]\n",
    "        \n",
    "        for t in range(1, max_len):\n",
    "            output, hidden = self.decoder(output, hidden, encoder_outputs)\n",
    "            outputs[t] = output\n",
    "            teacher_force = random.random() < 0.5\n",
    "            top1 = output.max(1)[1]\n",
    "            output = (trg[t] if teacher_force else top1)\n",
    "\n",
    "        return outputs"
   ]
  },
  {
   "cell_type": "code",
   "execution_count": 8,
   "outputs": [],
   "source": [
    "INPUT_DIM = len(SOURCE.vocab)\n",
    "OUTPUT_DIM = len(TARGET.vocab)\n",
    "attention = Attention(100, 100)\n",
    "encoder = Encoder(INPUT_DIM, 100, 100, 100)\n",
    "decoder = Decoder(OUTPUT_DIM, 100, 100, 100, attention)\n",
    "\n",
    "model = Seq2Seq(encoder, decoder)"
   ],
   "metadata": {
    "collapsed": false,
    "pycharm": {
     "name": "#%%\n",
     "is_executing": false
    }
   }
  }
 ],
 "metadata": {
  "colab": {
   "name": "seq2seq_attention.ipynb",
   "provenance": [],
   "version": "0.3.2"
  },
  "kernelspec": {
   "display_name": "Python 3",
   "language": "python",
   "name": "python3"
  },
  "language_info": {
   "codemirror_mode": {
    "name": "ipython",
    "version": 3
   },
   "file_extension": ".py",
   "mimetype": "text/x-python",
   "name": "python",
   "nbconvert_exporter": "python",
   "pygments_lexer": "ipython3",
   "version": "3.7.3"
  },
  "pycharm": {
   "stem_cell": {
    "cell_type": "raw",
    "source": [],
    "metadata": {
     "collapsed": false
    }
   }
  }
 },
 "nbformat": 4,
 "nbformat_minor": 1
}